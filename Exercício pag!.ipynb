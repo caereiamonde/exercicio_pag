{
 "cells": [
  {
   "cell_type": "markdown",
   "metadata": {},
   "source": [
    "# Exercício pag! - Parte 1"
   ]
  },
  {
   "cell_type": "markdown",
   "metadata": {},
   "source": [
    "Faremos a análise do banco de dados do [Brasil.IO](https://brasil.io/datasets \"Brasil.IO dataset\") chamado **Gasto dos deputados**.\n",
    "<br />\n",
    "[Download](https://drive.google.com/drive/folders/1uAtafk7V-V7ppmizfObPLDh85sGeh47t) <br />\n",
    "Inicio realizando o carregamento das livrarias a serem utilizadas e da base de dados."
   ]
  },
  {
   "cell_type": "code",
   "execution_count": 9,
   "metadata": {},
   "outputs": [],
   "source": [
    "%matplotlib inline\n",
    "import pandas as pd\n",
    "import numpy as np\n",
    "import colorsys\n",
    "import datetime\n",
    "from datetime import date\n",
    "import matplotlib.pyplot as plt\n",
    "\n",
    "df = pd.read_csv(\"cota-parlamentar.csv\")"
   ]
  },
  {
   "cell_type": "code",
   "execution_count": 10,
   "metadata": {},
   "outputs": [],
   "source": [
    "df[\"datemissao\"] = pd.to_datetime(df[\"datemissao\"], errors=\"coerce\")\n",
    "dfindex = df.set_index(\"datemissao\", inplace=True)"
   ]
  },
  {
   "cell_type": "markdown",
   "metadata": {},
   "source": [
    "Para garantir a utilização de dados corretos, irei restringir a análise entre jan/2012 e mar/2019. Período mais confiável no banco de dados, de acordo com análise prévia."
   ]
  },
  {
   "cell_type": "code",
   "execution_count": 11,
   "metadata": {},
   "outputs": [
    {
     "data": {
      "text/html": [
       "<div>\n",
       "<style scoped>\n",
       "    .dataframe tbody tr th:only-of-type {\n",
       "        vertical-align: middle;\n",
       "    }\n",
       "\n",
       "    .dataframe tbody tr th {\n",
       "        vertical-align: top;\n",
       "    }\n",
       "\n",
       "    .dataframe thead th {\n",
       "        text-align: right;\n",
       "    }\n",
       "</style>\n",
       "<table border=\"1\" class=\"dataframe\">\n",
       "  <thead>\n",
       "    <tr style=\"text-align: right;\">\n",
       "      <th></th>\n",
       "      <th>codlegislatura</th>\n",
       "      <th>idedocumento</th>\n",
       "      <th>idecadastro</th>\n",
       "      <th>indtipodocumento</th>\n",
       "      <th>nucarteiraparlamentar</th>\n",
       "      <th>nudeputadoid</th>\n",
       "      <th>nulegislatura</th>\n",
       "      <th>numano</th>\n",
       "      <th>numespecificacaosubcota</th>\n",
       "      <th>numlote</th>\n",
       "      <th>...</th>\n",
       "      <th>txtdescricao</th>\n",
       "      <th>txtdescricaoespecificacao</th>\n",
       "      <th>txtfornecedor</th>\n",
       "      <th>txtnumero</th>\n",
       "      <th>txtpassageiro</th>\n",
       "      <th>txttrecho</th>\n",
       "      <th>vlrdocumento</th>\n",
       "      <th>vlrglosa</th>\n",
       "      <th>vlrliquido</th>\n",
       "      <th>vlrrestituicao</th>\n",
       "    </tr>\n",
       "    <tr>\n",
       "      <th>datemissao</th>\n",
       "      <th></th>\n",
       "      <th></th>\n",
       "      <th></th>\n",
       "      <th></th>\n",
       "      <th></th>\n",
       "      <th></th>\n",
       "      <th></th>\n",
       "      <th></th>\n",
       "      <th></th>\n",
       "      <th></th>\n",
       "      <th></th>\n",
       "      <th></th>\n",
       "      <th></th>\n",
       "      <th></th>\n",
       "      <th></th>\n",
       "      <th></th>\n",
       "      <th></th>\n",
       "      <th></th>\n",
       "      <th></th>\n",
       "      <th></th>\n",
       "      <th></th>\n",
       "    </tr>\n",
       "  </thead>\n",
       "  <tbody>\n",
       "    <tr>\n",
       "      <th>2019-01-16</th>\n",
       "      <td>55.0</td>\n",
       "      <td>6738121</td>\n",
       "      <td>NaN</td>\n",
       "      <td>4</td>\n",
       "      <td>NaN</td>\n",
       "      <td>2812</td>\n",
       "      <td>NaN</td>\n",
       "      <td>2019</td>\n",
       "      <td>0</td>\n",
       "      <td>1554246</td>\n",
       "      <td>...</td>\n",
       "      <td>FORNECIMENTO DE ALIMENTAÇÃO DO PARLAMENTAR</td>\n",
       "      <td>NaN</td>\n",
       "      <td>CRISTIANE FERREIRA EPP</td>\n",
       "      <td>693</td>\n",
       "      <td>NaN</td>\n",
       "      <td>NaN</td>\n",
       "      <td>111.30</td>\n",
       "      <td>0.0</td>\n",
       "      <td>111.30</td>\n",
       "      <td>NaN</td>\n",
       "    </tr>\n",
       "    <tr>\n",
       "      <th>2019-01-22</th>\n",
       "      <td>55.0</td>\n",
       "      <td>6740108</td>\n",
       "      <td>NaN</td>\n",
       "      <td>4</td>\n",
       "      <td>NaN</td>\n",
       "      <td>2439</td>\n",
       "      <td>NaN</td>\n",
       "      <td>2019</td>\n",
       "      <td>0</td>\n",
       "      <td>1554921</td>\n",
       "      <td>...</td>\n",
       "      <td>MANUTENÇÃO DE ESCRITÓRIO DE APOIO À ATIVIDADE ...</td>\n",
       "      <td>NaN</td>\n",
       "      <td>LOJAS AMERICANAS S/A</td>\n",
       "      <td>11141</td>\n",
       "      <td>NaN</td>\n",
       "      <td>NaN</td>\n",
       "      <td>149.95</td>\n",
       "      <td>0.0</td>\n",
       "      <td>149.95</td>\n",
       "      <td>NaN</td>\n",
       "    </tr>\n",
       "  </tbody>\n",
       "</table>\n",
       "<p>2 rows × 28 columns</p>\n",
       "</div>"
      ],
      "text/plain": [
       "            codlegislatura  idedocumento  idecadastro  indtipodocumento  \\\n",
       "datemissao                                                                \n",
       "2019-01-16            55.0       6738121          NaN                 4   \n",
       "2019-01-22            55.0       6740108          NaN                 4   \n",
       "\n",
       "            nucarteiraparlamentar  nudeputadoid  nulegislatura  numano  \\\n",
       "datemissao                                                               \n",
       "2019-01-16                    NaN          2812            NaN    2019   \n",
       "2019-01-22                    NaN          2439            NaN    2019   \n",
       "\n",
       "            numespecificacaosubcota  numlote  ...  \\\n",
       "datemissao                                    ...   \n",
       "2019-01-16                        0  1554246  ...   \n",
       "2019-01-22                        0  1554921  ...   \n",
       "\n",
       "                                                 txtdescricao  \\\n",
       "datemissao                                                      \n",
       "2019-01-16         FORNECIMENTO DE ALIMENTAÇÃO DO PARLAMENTAR   \n",
       "2019-01-22  MANUTENÇÃO DE ESCRITÓRIO DE APOIO À ATIVIDADE ...   \n",
       "\n",
       "            txtdescricaoespecificacao           txtfornecedor  txtnumero  \\\n",
       "datemissao                                                                 \n",
       "2019-01-16                        NaN  CRISTIANE FERREIRA EPP        693   \n",
       "2019-01-22                        NaN    LOJAS AMERICANAS S/A      11141   \n",
       "\n",
       "           txtpassageiro txttrecho vlrdocumento  vlrglosa vlrliquido  \\\n",
       "datemissao                                                             \n",
       "2019-01-16           NaN       NaN       111.30       0.0     111.30   \n",
       "2019-01-22           NaN       NaN       149.95       0.0     149.95   \n",
       "\n",
       "           vlrrestituicao  \n",
       "datemissao                 \n",
       "2019-01-16            NaN  \n",
       "2019-01-22            NaN  \n",
       "\n",
       "[2 rows x 28 columns]"
      ]
     },
     "execution_count": 11,
     "metadata": {},
     "output_type": "execute_result"
    }
   ],
   "source": [
    "dfpart = df[\"2012-01\":\"2019-03\"]\n",
    "dfpart.head(2)"
   ]
  },
  {
   "cell_type": "markdown",
   "metadata": {},
   "source": [
    "Para facilitar a visualização, toda a análise será baseada nos valores R$/mil."
   ]
  },
  {
   "cell_type": "code",
   "execution_count": 350,
   "metadata": {},
   "outputs": [
    {
     "data": {
      "image/png": "[encoded data removed]",
      "text/plain": [
       "<Figure size 432x288 with 1 Axes>"
      ]
     },
     "metadata": {
      "needs_background": "light"
     },
     "output_type": "display_data"
    },
    {
     "name": "stdout",
     "output_type": "stream",
     "text": [
      "datemissao\n",
      "2017    224881.91722\n",
      "2018    204973.54704\n",
      "2019     11332.26045\n",
      "Name: vlrliquido, dtype: float64\n"
     ]
    }
   ],
   "source": [
    "resumoano = dfpart.groupby(dfpart.index.year).sum()['vlrliquido']/1000\n",
    "ano = (\"2012\",\"2013\",\"2014\",\"2015\",\"2016\",\"2017\",\"2018\",\"2019\")\n",
    "y_pos2 = np.arange(len(ano))\n",
    "plt.bar(ano, resumoano, align=\"center\", alpha = .5)\n",
    "plt.xticks(y_pos2, ano)\n",
    "plt.show()\n",
    "print(resumoano[5:])"
   ]
  },
  {
   "cell_type": "markdown",
   "metadata": {},
   "source": [
    "Observando o valor por ano, tem-se uma crescente até 2017 com uma ligeira queda em 2018, talvez impactada pela mudança no governo. O pico foi em 2017, onde foram gastos aproximadamente **225 milhões de reais**."
   ]
  },
  {
   "cell_type": "code",
   "execution_count": 35,
   "metadata": {},
   "outputs": [
    {
     "data": {
      "image/png": "[encoded data removed]",
      "text/plain": [
       "<Figure size 432x288 with 1 Axes>"
      ]
     },
     "metadata": {
      "needs_background": "light"
     },
     "output_type": "display_data"
    },
    {
     "name": "stdout",
     "output_type": "stream",
     "text": [
      "count       86.000000\n",
      "mean     16546.185451\n",
      "std       4093.671121\n",
      "min        679.640770\n",
      "25%      14335.912745\n",
      "50%      16923.498730\n",
      "75%      18933.790998\n",
      "max      29600.799000\n",
      "Name: vlrliquido, dtype: float64\n"
     ]
    }
   ],
   "source": [
    "resumomes = dfpart.groupby([dfpart.index.year, dfpart.index.month]).sum()['vlrliquido']/1000\n",
    "resumomes.plot()\n",
    "plt.xticks(rotation = 30)\n",
    "plt.xlabel(\"Mês\")\n",
    "plt.show()\n",
    "print(resumomes.describe())"
   ]
  },
  {
   "cell_type": "markdown",
   "metadata": {},
   "source": [
    "Observa-se um pico excepcional no mês de dez/14. A média mensal de  gastos é de 16,5 milhões com um desvio padrão de 4 milhões."
   ]
  },
  {
   "cell_type": "code",
   "execution_count": 36,
   "metadata": {},
   "outputs": [
    {
     "data": {
      "image/png": "[encoded data removed]",
      "text/plain": [
       "<Figure size 432x288 with 1 Axes>"
      ]
     },
     "metadata": {
      "needs_background": "light"
     },
     "output_type": "display_data"
    }
   ],
   "source": [
    "resumopartido = dfpart.groupby(dfpart[\"sgpartido\"]).sum()['vlrliquido']/1000\n",
    "top10_partidos = resumopartido.sort_values(ascending = False).head(10)\n",
    "x = list(top10_partidos.index)\n",
    "plt.bar(x,top10_partidos, alpha = .5)\n",
    "plt.show()"
   ]
  },
  {
   "cell_type": "markdown",
   "metadata": {},
   "source": [
    "O partido com maior gasto nesse período foi o PT (aproximadamente 200 milhões de reais), com um valor bem acima dos demais. Seguido por MDB, PSDB e PP em um mesmo patamar de gasto; depois DEM, PR e PSD com um patamar semelhante de gastos."
   ]
  },
  {
   "cell_type": "code",
   "execution_count": 37,
   "metadata": {},
   "outputs": [
    {
     "data": {
      "image/png": "[encoded data removed]",
      "text/plain": [
       "<Figure size 432x288 with 1 Axes>"
      ]
     },
     "metadata": {
      "needs_background": "light"
     },
     "output_type": "display_data"
    }
   ],
   "source": [
    "resumotipo = dfpart.groupby(dfpart[\"txtdescricao\"]).sum()['vlrliquido']/1000\n",
    "top10_tipos = resumotipo.sort_values(ascending = False).head(10)\n",
    "x = list(top10_tipos.index)\n",
    "plt.bar(x,top10_tipos, alpha = .5)\n",
    "plt.xticks(rotation=90)\n",
    "plt.show()"
   ]
  },
  {
   "cell_type": "markdown",
   "metadata": {},
   "source": [
    "O gasto de maior valor é DIVULGAÇÃO DA ATIVIDADE PARLAMENTAR, seguido de Emissão Bilhete Aéreo. Os dois gastos representam  aproximadamente aproximadamente 600 milhões de reais. <br />\n",
    "Abaixo pode-se observar os top 15 políticos e partidos com maior gasto nessas categorias."
   ]
  },
  {
   "cell_type": "code",
   "execution_count": 103,
   "metadata": {},
   "outputs": [
    {
     "data": {
      "image/png": "[encoded data removed]",
      "text/plain": [
       "<Figure size 720x216 with 2 Axes>"
      ]
     },
     "metadata": {
      "needs_background": "light"
     },
     "output_type": "display_data"
    }
   ],
   "source": [
    "fig, eixos = plt.subplots(nrows=1, ncols=2,figsize=(10,3))\n",
    "\n",
    "dfpart_divulg = dfpart.loc[dfpart['txtdescricao']==\"DIVULGAÇÃO DA ATIVIDADE PARLAMENTAR.\"]\n",
    "resumopol_1 = dfpart_divulg.groupby(dfpart_divulg[\"txnomeparlamentar\"]).sum()['vlrliquido']/1000\n",
    "top15_pol_1 = resumopol_1.sort_values(ascending = False).head(15)\n",
    "x_1 = list(top15_pol_1.index)\n",
    "g1 = eixos[0].bar(x_1,top15_pol_1, alpha = .5)\n",
    "eixos[0].set_title(\"Top 15 - DIVULGAÇÃO DA ATIVIDADE PARLAMENTAR\")\n",
    "plt.xticks(rotation=90)\n",
    "\n",
    "dfpart_aereas = dfpart.loc[dfpart['txtdescricao']==\"Emissão Bilhete Aéreo\"]\n",
    "resumopol_2 = dfpart_aereas.groupby(dfpart_aereas[\"txnomeparlamentar\"]).sum()['vlrliquido']/1000\n",
    "top15_pol_2 = resumopol_2.sort_values(ascending = False).head(15)\n",
    "x_2 = list(top15_pol_2.index)\n",
    "g2 = eixos[1].bar(x_2,top15_pol_2, alpha = .5)\n",
    "eixos[1].set_title(\"Top 15 - Emissão Bilhete Aéreo\")\n",
    "\n",
    "plt.setp(eixos[0].get_xticklabels(), rotation=90)\n",
    "plt.setp(eixos[1].get_xticklabels(), rotation=90)\n",
    "plt.subplots_adjust(wspace=.5)\n",
    "plt.show()\n"
   ]
  },
  {
   "cell_type": "code",
   "execution_count": 131,
   "metadata": {},
   "outputs": [
    {
     "data": {
      "image/png": "[encoded data removed]",
      "text/plain": [
       "<Figure size 720x216 with 2 Axes>"
      ]
     },
     "metadata": {
      "needs_background": "light"
     },
     "output_type": "display_data"
    }
   ],
   "source": [
    "fig, eixos = plt.subplots(nrows=1, ncols=2,figsize=(10,3))\n",
    "\n",
    "dfpart_divulg = dfpart.loc[dfpart['txtdescricao']==\"DIVULGAÇÃO DA ATIVIDADE PARLAMENTAR.\"]\n",
    "resumopol_3 = dfpart_divulg.groupby(dfpart_divulg[\"sgpartido\"]).sum()['vlrliquido']/1000\n",
    "top15_pol_3 = resumopol_3.sort_values(ascending = False).head(15)\n",
    "x_3 = list(top15_pol_3.index)\n",
    "g3 = eixos[0].bar(x_3,top15_pol_3, alpha = .5)\n",
    "eixos[0].set_title(\"Top 15 - DIVULGAÇÃO DA ATIVIDADE PARLAMENTAR\")\n",
    "plt.xticks(rotation=90)\n",
    "\n",
    "dfpart_aereas = dfpart.loc[dfpart['txtdescricao']==\"Emissão Bilhete Aéreo\"]\n",
    "resumopol_4 = dfpart_aereas.groupby(dfpart_aereas[\"sgpartido\"]).sum()['vlrliquido']/1000\n",
    "top15_pol_4 = resumopol_4.sort_values(ascending = False).head(15)\n",
    "x_4 = list(top15_pol_4.index)\n",
    "g4 = eixos[1].bar(x_4,top15_pol_4, alpha = .5)\n",
    "eixos[1].set_title(\"Top 15 - Emissão Bilhete Aéreo\")\n",
    "\n",
    "plt.setp(eixos[0].get_xticklabels(), rotation=90)\n",
    "plt.setp(eixos[1].get_xticklabels(), rotation=90)\n",
    "plt.subplots_adjust(wspace=.5)\n",
    "plt.show()"
   ]
  },
  {
   "cell_type": "code",
   "execution_count": 67,
   "metadata": {
    "scrolled": true
   },
   "outputs": [
    {
     "data": {
      "image/png": "[encoded data removed]",
      "text/plain": [
       "<Figure size 432x288 with 1 Axes>"
      ]
     },
     "metadata": {
      "needs_background": "light"
     },
     "output_type": "display_data"
    }
   ],
   "source": [
    "#resumopartido = dfpart.groupby(dfpart[\"sgpartido\"]).sum()['vlrliquido']/1000\n",
    "resumopartido_cont = dfpart.groupby(dfpart[\"sgpartido\"]).txnomeparlamentar.nunique()\n",
    "\n",
    "plt.scatter(resumopartido_cont, resumopartido)\n",
    "plt.xlabel('Número de Parlamentares')\n",
    "plt.ylabel('Valor gasto')\n",
    "plt.title('Valor gasto x Qtde de Parlamentares')\n",
    "plt.show()\n"
   ]
  },
  {
   "cell_type": "markdown",
   "metadata": {},
   "source": [
    "Observa-se, pelo gráfico acima, que \"naturalmente\" a medida que aumenta a quantidade de parlamentares o gasto aumenta, porém tem-se um caso específico de alta discrepância quando é observado a quantidade em torno de 60 parlamentares. Nesse ponto o gasto varia entre 25 milhões até 125 milhões, aproximadamente. <br />\n",
    "<br />\n",
    "Uma análise interessante é observar se a emissão de bilhetes aéreos é feita para o parlamentar ou não. Neste caso, do total 16% dos bilhetes não são para o parlamentar. Porém, temos alguns partidos que merecem uma atenção especial e uma análise mais crítica (tabela abaixo): PEN, PRP, SOLIDARIEDADE, PODE\\*, PTdoB, PMN, PPL, PV e PSOL.<br />\n",
    "\\*Está no top 15 de maiores gastos.<br />\n",
    "\n",
    "Quando analisa-se os top 15 parlamentares, tem-se 9 com mais de 20% de bilhetes não emitidos para eles próprios: BONIFÁCIO DE ANDRADA\\*, CARLOS SAMPAIO, MARCO MAIA, MARINALDO ROSENDO\\*, MARINHA RAUPP, ONYX LORENZONI, PAULO FREIRE COSTA\\*, PAULO PEREIRA DA SILVA\\* e WLADIMIR COSTA.<br />\n",
    "\\*Mais de 50% de bilhetes não emitidos para eles próprios."
   ]
  },
  {
   "cell_type": "code",
   "execution_count": 87,
   "metadata": {},
   "outputs": [
    {
     "data": {
      "image/png": "[encoded data removed]",
      "text/plain": [
       "<Figure size 432x288 with 1 Axes>"
      ]
     },
     "metadata": {},
     "output_type": "display_data"
    }
   ],
   "source": [
    "import warnings\n",
    "warnings.filterwarnings('ignore')\n",
    "\n",
    "dfpart_aereas['verif'] = 0\n",
    "dfpart_aereas['verif'] = dfpart_aereas[\"txnomeparlamentar\"] == dfpart_aereas[\"txtpassageiro\"]\n",
    "resumovoo = dfpart_aereas.groupby(dfpart_aereas[\"verif\"]).txnomeparlamentar.count()\n",
    "plt.pie(resumovoo.values, labels=['NOk', 'Ok'], autopct='%1.1f%%')\n",
    "plt.title('Compra de Passagens')\n",
    "plt.axis('equal')\n",
    "plt.show()"
   ]
  },
  {
   "cell_type": "code",
   "execution_count": 109,
   "metadata": {},
   "outputs": [],
   "source": [
    "dfpart_aereas['verif'] = dfpart_aereas[\"txnomeparlamentar\"] == dfpart_aereas[\"txtpassageiro\"]\n",
    "tabela = pd.pivot_table(data=dfpart_aereas, values='vlrliquido', index='sgpartido', columns='verif', aggfunc='count', margins=True, \n",
    "                       dropna=True, fill_value=0)"
   ]
  },
  {
   "cell_type": "code",
   "execution_count": 130,
   "metadata": {},
   "outputs": [
    {
     "data": {
      "text/html": [
       "<div>\n",
       "<style scoped>\n",
       "    .dataframe tbody tr th:only-of-type {\n",
       "        vertical-align: middle;\n",
       "    }\n",
       "\n",
       "    .dataframe tbody tr th {\n",
       "        vertical-align: top;\n",
       "    }\n",
       "\n",
       "    .dataframe thead th {\n",
       "        text-align: right;\n",
       "    }\n",
       "</style>\n",
       "<table border=\"1\" class=\"dataframe\">\n",
       "  <thead>\n",
       "    <tr style=\"text-align: right;\">\n",
       "      <th>verif</th>\n",
       "      <th>False</th>\n",
       "      <th>True</th>\n",
       "      <th>All</th>\n",
       "    </tr>\n",
       "    <tr>\n",
       "      <th>sgpartido</th>\n",
       "      <th></th>\n",
       "      <th></th>\n",
       "      <th></th>\n",
       "    </tr>\n",
       "  </thead>\n",
       "  <tbody>\n",
       "    <tr>\n",
       "      <th>AVANTE</th>\n",
       "      <td>10.586481</td>\n",
       "      <td>89.413519</td>\n",
       "      <td>100.0</td>\n",
       "    </tr>\n",
       "    <tr>\n",
       "      <th>DEM</th>\n",
       "      <td>18.857613</td>\n",
       "      <td>81.142387</td>\n",
       "      <td>100.0</td>\n",
       "    </tr>\n",
       "    <tr>\n",
       "      <th>MDB</th>\n",
       "      <td>16.159990</td>\n",
       "      <td>83.840010</td>\n",
       "      <td>100.0</td>\n",
       "    </tr>\n",
       "    <tr>\n",
       "      <th>PATRI</th>\n",
       "      <td>17.244413</td>\n",
       "      <td>82.755587</td>\n",
       "      <td>100.0</td>\n",
       "    </tr>\n",
       "    <tr>\n",
       "      <th>PCdoB</th>\n",
       "      <td>16.656779</td>\n",
       "      <td>83.343221</td>\n",
       "      <td>100.0</td>\n",
       "    </tr>\n",
       "    <tr>\n",
       "      <th>PDT</th>\n",
       "      <td>10.860187</td>\n",
       "      <td>89.139813</td>\n",
       "      <td>100.0</td>\n",
       "    </tr>\n",
       "    <tr>\n",
       "      <th>PEN</th>\n",
       "      <td>37.019231</td>\n",
       "      <td>62.980769</td>\n",
       "      <td>100.0</td>\n",
       "    </tr>\n",
       "    <tr>\n",
       "      <th>PHS</th>\n",
       "      <td>6.458512</td>\n",
       "      <td>93.541488</td>\n",
       "      <td>100.0</td>\n",
       "    </tr>\n",
       "    <tr>\n",
       "      <th>PMDB</th>\n",
       "      <td>18.103293</td>\n",
       "      <td>81.896707</td>\n",
       "      <td>100.0</td>\n",
       "    </tr>\n",
       "    <tr>\n",
       "      <th>PMN</th>\n",
       "      <td>24.953445</td>\n",
       "      <td>75.046555</td>\n",
       "      <td>100.0</td>\n",
       "    </tr>\n",
       "    <tr>\n",
       "      <th>PODE</th>\n",
       "      <td>25.445329</td>\n",
       "      <td>74.554671</td>\n",
       "      <td>100.0</td>\n",
       "    </tr>\n",
       "    <tr>\n",
       "      <th>PP</th>\n",
       "      <td>14.421187</td>\n",
       "      <td>85.578813</td>\n",
       "      <td>100.0</td>\n",
       "    </tr>\n",
       "    <tr>\n",
       "      <th>PP**</th>\n",
       "      <td>17.015091</td>\n",
       "      <td>82.984909</td>\n",
       "      <td>100.0</td>\n",
       "    </tr>\n",
       "    <tr>\n",
       "      <th>PPL</th>\n",
       "      <td>24.538545</td>\n",
       "      <td>75.461455</td>\n",
       "      <td>100.0</td>\n",
       "    </tr>\n",
       "    <tr>\n",
       "      <th>PPS</th>\n",
       "      <td>6.562342</td>\n",
       "      <td>93.437658</td>\n",
       "      <td>100.0</td>\n",
       "    </tr>\n",
       "    <tr>\n",
       "      <th>PR</th>\n",
       "      <td>16.094648</td>\n",
       "      <td>83.905352</td>\n",
       "      <td>100.0</td>\n",
       "    </tr>\n",
       "    <tr>\n",
       "      <th>PRB</th>\n",
       "      <td>10.029994</td>\n",
       "      <td>89.970006</td>\n",
       "      <td>100.0</td>\n",
       "    </tr>\n",
       "    <tr>\n",
       "      <th>PROS</th>\n",
       "      <td>11.211217</td>\n",
       "      <td>88.788783</td>\n",
       "      <td>100.0</td>\n",
       "    </tr>\n",
       "    <tr>\n",
       "      <th>PRP</th>\n",
       "      <td>29.387331</td>\n",
       "      <td>70.612669</td>\n",
       "      <td>100.0</td>\n",
       "    </tr>\n",
       "    <tr>\n",
       "      <th>PRTB</th>\n",
       "      <td>1.428571</td>\n",
       "      <td>98.571429</td>\n",
       "      <td>100.0</td>\n",
       "    </tr>\n",
       "    <tr>\n",
       "      <th>PSB</th>\n",
       "      <td>14.548411</td>\n",
       "      <td>85.451589</td>\n",
       "      <td>100.0</td>\n",
       "    </tr>\n",
       "    <tr>\n",
       "      <th>PSC</th>\n",
       "      <td>12.414247</td>\n",
       "      <td>87.585753</td>\n",
       "      <td>100.0</td>\n",
       "    </tr>\n",
       "    <tr>\n",
       "      <th>PSD</th>\n",
       "      <td>14.401368</td>\n",
       "      <td>85.598632</td>\n",
       "      <td>100.0</td>\n",
       "    </tr>\n",
       "    <tr>\n",
       "      <th>PSDB</th>\n",
       "      <td>14.971950</td>\n",
       "      <td>85.028050</td>\n",
       "      <td>100.0</td>\n",
       "    </tr>\n",
       "    <tr>\n",
       "      <th>PSDC</th>\n",
       "      <td>17.894737</td>\n",
       "      <td>82.105263</td>\n",
       "      <td>100.0</td>\n",
       "    </tr>\n",
       "    <tr>\n",
       "      <th>PSL</th>\n",
       "      <td>13.461538</td>\n",
       "      <td>86.538462</td>\n",
       "      <td>100.0</td>\n",
       "    </tr>\n",
       "    <tr>\n",
       "      <th>PSOL</th>\n",
       "      <td>21.373762</td>\n",
       "      <td>78.626238</td>\n",
       "      <td>100.0</td>\n",
       "    </tr>\n",
       "    <tr>\n",
       "      <th>PT</th>\n",
       "      <td>17.183585</td>\n",
       "      <td>82.816415</td>\n",
       "      <td>100.0</td>\n",
       "    </tr>\n",
       "    <tr>\n",
       "      <th>PTB</th>\n",
       "      <td>18.930077</td>\n",
       "      <td>81.069923</td>\n",
       "      <td>100.0</td>\n",
       "    </tr>\n",
       "    <tr>\n",
       "      <th>PTC</th>\n",
       "      <td>7.042254</td>\n",
       "      <td>92.957746</td>\n",
       "      <td>100.0</td>\n",
       "    </tr>\n",
       "    <tr>\n",
       "      <th>PTdoB</th>\n",
       "      <td>25.655644</td>\n",
       "      <td>74.344356</td>\n",
       "      <td>100.0</td>\n",
       "    </tr>\n",
       "    <tr>\n",
       "      <th>PV</th>\n",
       "      <td>22.979156</td>\n",
       "      <td>77.020844</td>\n",
       "      <td>100.0</td>\n",
       "    </tr>\n",
       "    <tr>\n",
       "      <th>REDE</th>\n",
       "      <td>7.645260</td>\n",
       "      <td>92.354740</td>\n",
       "      <td>100.0</td>\n",
       "    </tr>\n",
       "    <tr>\n",
       "      <th>S.PART.</th>\n",
       "      <td>8.333333</td>\n",
       "      <td>91.666667</td>\n",
       "      <td>100.0</td>\n",
       "    </tr>\n",
       "    <tr>\n",
       "      <th>SD</th>\n",
       "      <td>15.132810</td>\n",
       "      <td>84.867190</td>\n",
       "      <td>100.0</td>\n",
       "    </tr>\n",
       "    <tr>\n",
       "      <th>SOLIDARIEDADE</th>\n",
       "      <td>26.979497</td>\n",
       "      <td>73.020503</td>\n",
       "      <td>100.0</td>\n",
       "    </tr>\n",
       "    <tr>\n",
       "      <th>All</th>\n",
       "      <td>15.920039</td>\n",
       "      <td>84.079961</td>\n",
       "      <td>100.0</td>\n",
       "    </tr>\n",
       "  </tbody>\n",
       "</table>\n",
       "</div>"
      ],
      "text/plain": [
       "verif              False       True    All\n",
       "sgpartido                                 \n",
       "AVANTE         10.586481  89.413519  100.0\n",
       "DEM            18.857613  81.142387  100.0\n",
       "MDB            16.159990  83.840010  100.0\n",
       "PATRI          17.244413  82.755587  100.0\n",
       "PCdoB          16.656779  83.343221  100.0\n",
       "PDT            10.860187  89.139813  100.0\n",
       "PEN            37.019231  62.980769  100.0\n",
       "PHS             6.458512  93.541488  100.0\n",
       "PMDB           18.103293  81.896707  100.0\n",
       "PMN            24.953445  75.046555  100.0\n",
       "PODE           25.445329  74.554671  100.0\n",
       "PP             14.421187  85.578813  100.0\n",
       "PP**           17.015091  82.984909  100.0\n",
       "PPL            24.538545  75.461455  100.0\n",
       "PPS             6.562342  93.437658  100.0\n",
       "PR             16.094648  83.905352  100.0\n",
       "PRB            10.029994  89.970006  100.0\n",
       "PROS           11.211217  88.788783  100.0\n",
       "PRP            29.387331  70.612669  100.0\n",
       "PRTB            1.428571  98.571429  100.0\n",
       "PSB            14.548411  85.451589  100.0\n",
       "PSC            12.414247  87.585753  100.0\n",
       "PSD            14.401368  85.598632  100.0\n",
       "PSDB           14.971950  85.028050  100.0\n",
       "PSDC           17.894737  82.105263  100.0\n",
       "PSL            13.461538  86.538462  100.0\n",
       "PSOL           21.373762  78.626238  100.0\n",
       "PT             17.183585  82.816415  100.0\n",
       "PTB            18.930077  81.069923  100.0\n",
       "PTC             7.042254  92.957746  100.0\n",
       "PTdoB          25.655644  74.344356  100.0\n",
       "PV             22.979156  77.020844  100.0\n",
       "REDE            7.645260  92.354740  100.0\n",
       "S.PART.         8.333333  91.666667  100.0\n",
       "SD             15.132810  84.867190  100.0\n",
       "SOLIDARIEDADE  26.979497  73.020503  100.0\n",
       "All            15.920039  84.079961  100.0"
      ]
     },
     "execution_count": 130,
     "metadata": {},
     "output_type": "execute_result"
    }
   ],
   "source": [
    "tabela2 = tabela.div(tabela.iloc[:,-1], axis=0)*100\n",
    "tabela2"
   ]
  },
  {
   "cell_type": "code",
   "execution_count": 136,
   "metadata": {},
   "outputs": [
    {
     "data": {
      "text/html": [
       "<div>\n",
       "<style scoped>\n",
       "    .dataframe tbody tr th:only-of-type {\n",
       "        vertical-align: middle;\n",
       "    }\n",
       "\n",
       "    .dataframe tbody tr th {\n",
       "        vertical-align: top;\n",
       "    }\n",
       "\n",
       "    .dataframe thead th {\n",
       "        text-align: right;\n",
       "    }\n",
       "</style>\n",
       "<table border=\"1\" class=\"dataframe\">\n",
       "  <thead>\n",
       "    <tr style=\"text-align: right;\">\n",
       "      <th>verif</th>\n",
       "      <th>False</th>\n",
       "      <th>True</th>\n",
       "      <th>All</th>\n",
       "    </tr>\n",
       "    <tr>\n",
       "      <th>txnomeparlamentar</th>\n",
       "      <th></th>\n",
       "      <th></th>\n",
       "      <th></th>\n",
       "    </tr>\n",
       "  </thead>\n",
       "  <tbody>\n",
       "    <tr>\n",
       "      <th>ALEX CANZIANI</th>\n",
       "      <td>16.168478</td>\n",
       "      <td>83.831522</td>\n",
       "      <td>100.0</td>\n",
       "    </tr>\n",
       "    <tr>\n",
       "      <th>ALFREDO KAEFER</th>\n",
       "      <td>12.642741</td>\n",
       "      <td>87.357259</td>\n",
       "      <td>100.0</td>\n",
       "    </tr>\n",
       "    <tr>\n",
       "      <th>BONIFÁCIO DE ANDRADA</th>\n",
       "      <td>50.884354</td>\n",
       "      <td>49.115646</td>\n",
       "      <td>100.0</td>\n",
       "    </tr>\n",
       "    <tr>\n",
       "      <th>CARLOS SAMPAIO</th>\n",
       "      <td>44.436005</td>\n",
       "      <td>55.563995</td>\n",
       "      <td>100.0</td>\n",
       "    </tr>\n",
       "    <tr>\n",
       "      <th>EDIO LOPES</th>\n",
       "      <td>12.788963</td>\n",
       "      <td>87.211037</td>\n",
       "      <td>100.0</td>\n",
       "    </tr>\n",
       "    <tr>\n",
       "      <th>MARCO MAIA</th>\n",
       "      <td>32.018717</td>\n",
       "      <td>67.981283</td>\n",
       "      <td>100.0</td>\n",
       "    </tr>\n",
       "    <tr>\n",
       "      <th>MARINALDO ROSENDO</th>\n",
       "      <td>54.787073</td>\n",
       "      <td>45.212927</td>\n",
       "      <td>100.0</td>\n",
       "    </tr>\n",
       "    <tr>\n",
       "      <th>MARINHA RAUPP</th>\n",
       "      <td>20.583832</td>\n",
       "      <td>79.416168</td>\n",
       "      <td>100.0</td>\n",
       "    </tr>\n",
       "    <tr>\n",
       "      <th>MIRO TEIXEIRA</th>\n",
       "      <td>0.000000</td>\n",
       "      <td>100.000000</td>\n",
       "      <td>100.0</td>\n",
       "    </tr>\n",
       "    <tr>\n",
       "      <th>ONYX LORENZONI</th>\n",
       "      <td>29.107752</td>\n",
       "      <td>70.892248</td>\n",
       "      <td>100.0</td>\n",
       "    </tr>\n",
       "    <tr>\n",
       "      <th>PAULO FREIRE COSTA</th>\n",
       "      <td>69.095941</td>\n",
       "      <td>30.904059</td>\n",
       "      <td>100.0</td>\n",
       "    </tr>\n",
       "    <tr>\n",
       "      <th>PAULO PEREIRA DA SILVA</th>\n",
       "      <td>53.131233</td>\n",
       "      <td>46.868767</td>\n",
       "      <td>100.0</td>\n",
       "    </tr>\n",
       "    <tr>\n",
       "      <th>WALDIR MARANHÃO</th>\n",
       "      <td>10.438729</td>\n",
       "      <td>89.561271</td>\n",
       "      <td>100.0</td>\n",
       "    </tr>\n",
       "    <tr>\n",
       "      <th>WLADIMIR COSTA</th>\n",
       "      <td>31.733746</td>\n",
       "      <td>68.266254</td>\n",
       "      <td>100.0</td>\n",
       "    </tr>\n",
       "    <tr>\n",
       "      <th>ZÉ GERALDO</th>\n",
       "      <td>4.628921</td>\n",
       "      <td>95.371079</td>\n",
       "      <td>100.0</td>\n",
       "    </tr>\n",
       "  </tbody>\n",
       "</table>\n",
       "</div>"
      ],
      "text/plain": [
       "verif                       False        True    All\n",
       "txnomeparlamentar                                   \n",
       "ALEX CANZIANI           16.168478   83.831522  100.0\n",
       "ALFREDO KAEFER          12.642741   87.357259  100.0\n",
       "BONIFÁCIO DE ANDRADA    50.884354   49.115646  100.0\n",
       "CARLOS SAMPAIO          44.436005   55.563995  100.0\n",
       "EDIO LOPES              12.788963   87.211037  100.0\n",
       "MARCO MAIA              32.018717   67.981283  100.0\n",
       "MARINALDO ROSENDO       54.787073   45.212927  100.0\n",
       "MARINHA RAUPP           20.583832   79.416168  100.0\n",
       "MIRO TEIXEIRA            0.000000  100.000000  100.0\n",
       "ONYX LORENZONI          29.107752   70.892248  100.0\n",
       "PAULO FREIRE COSTA      69.095941   30.904059  100.0\n",
       "PAULO PEREIRA DA SILVA  53.131233   46.868767  100.0\n",
       "WALDIR MARANHÃO         10.438729   89.561271  100.0\n",
       "WLADIMIR COSTA          31.733746   68.266254  100.0\n",
       "ZÉ GERALDO               4.628921   95.371079  100.0"
      ]
     },
     "execution_count": 136,
     "metadata": {},
     "output_type": "execute_result"
    }
   ],
   "source": [
    "dfpart_aereas['verif'] = dfpart_aereas[\"txnomeparlamentar\"] == dfpart_aereas[\"txtpassageiro\"]\n",
    "tabela = pd.pivot_table(data=dfpart_aereas, values='vlrliquido', index='txnomeparlamentar', columns='verif', aggfunc='count', margins=True, \n",
    "                       dropna=True, fill_value=0)\n",
    "tabela2 = tabela.div(tabela.iloc[:,-1], axis=0)*100\n",
    "tabela2.query('txnomeparlamentar == [\"WLADIMIR COSTA\", \"ONYX LORENZONI\", \"PAULO PEREIRA DA SILVA\",\"ALFREDO KAEFER\",\"CARLOS SAMPAIO\",\"PAULO FREIRE COSTA\",\"ALEX CANZIANI\",\"MARINALDO ROSENDO\", \"MIRO TEIXEIRA\",\"WALDIR MARANHÃO\",\"MARINHA RAUPP\",\"EDIO LOPES\",\"ZÉ GERALDO\",\"BONIFÁCIO DE ANDRADA\",\"MARCO MAIA\"]')"
   ]
  },
  {
   "cell_type": "markdown",
   "metadata": {},
   "source": [
    "Agora, pode ser feita uma projeção de gastos para 2019 com o histórico da base de dados."
   ]
  },
  {
   "cell_type": "code",
   "execution_count": 333,
   "metadata": {},
   "outputs": [],
   "source": [
    "from statsmodels.tsa.holtwinters import ExponentialSmoothing\n",
    "valorliq = resumomes[:85] #expurgando o valor de fev/19 pois o valor está muito discrepante dos demais não indicando um valor real\n",
    "#dividindo os dados\n",
    "gastos = valorliq[:int(0.7*(len(valorliq)))]\n",
    "valid = valorliq[int(0.7*(len(valorliq))):]"
   ]
  },
  {
   "cell_type": "code",
   "execution_count": 334,
   "metadata": {},
   "outputs": [
    {
     "name": "stdout",
     "output_type": "stream",
     "text": [
      "[3881.937980593918, 4264.658490111006, 2631.557898639937, 2765.661766890559]\n"
     ]
    }
   ],
   "source": [
    "fit1 = ExponentialSmoothing(gastos,seasonal_periods=12, trend='add', seasonal='add',).fit(use_boxcox = True)\n",
    "fit2 = ExponentialSmoothing(gastos,seasonal_periods=12, trend='add', seasonal='mul',).fit(use_boxcox = True)\n",
    "fit3 = ExponentialSmoothing(gastos,seasonal_periods=12, trend='add', seasonal='add', damped = True).fit(use_boxcox = True)\n",
    "fit4 = ExponentialSmoothing(gastos,seasonal_periods=12, trend='add', seasonal='mul', damped = True).fit(use_boxcox = True)\n",
    "\n",
    "from math import sqrt\n",
    "from sklearn.metrics import mean_squared_error\n",
    "\n",
    "forecast_fit1 = fit1.forecast(len(valid))\n",
    "forecast_fit2 = fit2.forecast(len(valid))\n",
    "forecast_fit3 = fit3.forecast(len(valid))\n",
    "forecast_fit4 = fit4.forecast(len(valid))\n",
    "\n",
    "rms = [sqrt(mean_squared_error(valid,forecast_fit1)),sqrt(mean_squared_error(valid,forecast_fit2)),sqrt(mean_squared_error(valid,forecast_fit3)),sqrt(mean_squared_error(valid,forecast_fit4))]\n",
    "print(rms)"
   ]
  },
  {
   "cell_type": "code",
   "execution_count": 336,
   "metadata": {},
   "outputs": [],
   "source": [
    "#Modelo 3 mais adequado com menor EQM, realizando o ajuste para toda a base\n",
    "fit3 = ExponentialSmoothing(valorliq,seasonal_periods=12, trend='add', seasonal='add', damped = True).fit(use_boxcox = True)\n",
    "forecast_fit3 = fit3.forecast(11) #projeção de gasto para 2019"
   ]
  },
  {
   "cell_type": "markdown",
   "metadata": {},
   "source": [
    "Se for mantida o mesmo perfil de gasto mensal, em 2019 será desembolsado 185 milhões de reais."
   ]
  },
  {
   "cell_type": "code",
   "execution_count": 351,
   "metadata": {},
   "outputs": [
    {
     "data": {
      "image/png": "[encoded data removed]",
      "text/plain": [
       "<Figure size 432x288 with 1 Axes>"
      ]
     },
     "metadata": {
      "needs_background": "light"
     },
     "output_type": "display_data"
    },
    {
     "name": "stdout",
     "output_type": "stream",
     "text": [
      "datemissao\n",
      "2019    184952.960734\n",
      "Name: vlrliquido, dtype: float64\n"
     ]
    }
   ],
   "source": [
    "resumoano[7:] = resumoano[7:]+sum(forecast_fit3)\n",
    "ano = (\"2012\",\"2013\",\"2014\",\"2015\",\"2016\",\"2017\",\"2018\",\"2019\")\n",
    "y_pos2 = np.arange(len(ano))\n",
    "plt.bar(ano, resumoano, align=\"center\", alpha = .5)\n",
    "plt.xticks(y_pos2, ano)\n",
    "plt.title('Resultado com projeção de gastos para 2019')\n",
    "plt.show()\n",
    "print(resumoano[7:])"
   ]
  }
 ],
 "metadata": {
  "kernelspec": {
   "display_name": "Python 3",
   "language": "python",
   "name": "python3"
  },
  "language_info": {
   "codemirror_mode": {
    "name": "ipython",
    "version": 3
   },
   "file_extension": ".py",
   "mimetype": "text/x-python",
   "name": "python",
   "nbconvert_exporter": "python",
   "pygments_lexer": "ipython3",
   "version": "3.7.3"
  }
 },
 "nbformat": 4,
 "nbformat_minor": 2
}
